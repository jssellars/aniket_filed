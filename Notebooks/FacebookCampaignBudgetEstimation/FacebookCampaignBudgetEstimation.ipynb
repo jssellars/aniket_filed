{
 "cells": [
  {
   "cell_type": "code",
   "execution_count": 1,
   "metadata": {
    "collapsed": true
   },
   "outputs": [],
   "source": [
    "from bson import BSON\n",
    "from pprint import pprint\n",
    "from facebook_business.adobjects.adaccount import AdAccount\n",
    "\n",
    "from Core.mongo_adapter import MongoOperator\n",
    "from Core.mongo_adapter import MongoRepositoryBase\n",
    "from Core.Web.BusinessOwnerRepository.BusinessOwnerRepository import BusinessOwnerRepository\n",
    "from Core.Web.FacebookGraphAPI.GraphAPI.GraphAPISdkBase import GraphAPISdkBase\n",
    "from Core.Web.FacebookGraphAPI.Tools import Tools\n",
    "\n",
    "class DataRepository(MongoRepositoryBase):\n",
    "    def get_amount_spent_and_results(self):\n",
    "        query = {\n",
    "        }\n",
    "        projection = {\n",
    "            \"_id\": 0,\n",
    "            \"account_id\": 1,\n",
    "            \"campaign_id\": 1,\n",
    "            \"adset_id\": 1,\n",
    "            \"amount_spent\": 1,\n",
    "            \"results\": 1\n",
    "        }\n",
    "        results = self.get(query, projection)\n",
    "        return results\n",
    "\n",
    "    def get_campaigns_objective(self, campaign_ids):\n",
    "        query = {\n",
    "            MongoOperator.AND.value: [\n",
    "                {\n",
    "                    'campaign_id': {\n",
    "                        MongoOperator.IN.value: campaign_ids\n",
    "                    }\n",
    "                },\n",
    "                {\n",
    "                    'status': {\n",
    "                        MongoOperator.IN.value: [1, 2]\n",
    "                    }\n",
    "                }\n",
    "            ]\n",
    "        }\n",
    "        projection = {\n",
    "            \"_id\": 0,\n",
    "            \"account_id\": 1,\n",
    "            \"business_owner_facebook_id\": 1,\n",
    "            \"campaign_id\": 1,\n",
    "            \"details\": 1\n",
    "        }\n",
    "        results = self.get(query, projection)\n",
    "        for index in range(len(results)):\n",
    "            results[index]['details'] = BSON.decode(results[index]['details'])\n",
    "            results[index]['objective'] = results[index]['details']['objective']\n",
    "        return results\n",
    "\n",
    "    def get_adset_details(self, adset_id):\n",
    "        query = {\n",
    "            MongoOperator.AND.value: [\n",
    "                {\n",
    "                    'adset_id': {\n",
    "                        MongoOperator.EQUALS.value: adset_id\n",
    "                    }\n",
    "                },\n",
    "                {\n",
    "                    'status': 1\n",
    "                },\n",
    "            ]\n",
    "        }\n",
    "        projection = {\n",
    "            \"_id\": 0,\n",
    "            \"details\": 1\n",
    "        }\n",
    "        response = self.get(query, projection)\n",
    "        if response:\n",
    "            response = response[0]\n",
    "            response = BSON.decode(response['details'])\n",
    "        else:\n",
    "            response = {}\n",
    "        return response\n",
    "\n",
    "def get_business_owner_id(data, campaign_id):\n",
    "    bid = next(filter(lambda x: x['campaign_id'] == campaign_id, data))\n",
    "    if bid:\n",
    "        return bid['business_owner_facebook_id']\n",
    "\n",
    "def get_campaign_objective(data, campaign_id):\n",
    "    obj = next(filter(lambda x: x['campaign_id'] == campaign_id, data))\n",
    "    if obj:\n",
    "        return obj['objective']"
   ]
  },
  {
   "cell_type": "code",
   "execution_count": 2,
   "outputs": [],
   "source": [
    "from Notebooks.FacebookCampaignBudgetEstimation.startup import config, fixtures\n",
    "\n",
    "repo = DataRepository(config=config.mongo)\n",
    "repo.database = config.mongo.insights_database_name\n",
    "repo.collection = 'adset_none_none'\n",
    "data = repo.get_amount_spent_and_results()"
   ],
   "metadata": {
    "collapsed": false,
    "pycharm": {
     "name": "#%%\n"
    }
   }
  },
  {
   "cell_type": "code",
   "execution_count": 3,
   "outputs": [],
   "source": [
    "campaign_ids = [entry['campaign_id'] for entry in data]\n",
    "\n",
    "repo.database = config.mongo.structures_database_name\n",
    "repo.collection = 'campaign'\n",
    "campaigns_details = repo.get_campaigns_objective(campaign_ids)"
   ],
   "metadata": {
    "collapsed": false,
    "pycharm": {
     "name": "#%%\n"
    }
   }
  },
  {
   "cell_type": "code",
   "execution_count": 18,
   "outputs": [],
   "source": [
    "repo.database = config.mongo.structures_database_name\n",
    "repo.collection = 'adset'\n",
    "\n",
    "for index in range(len(data)):\n",
    "    obj = get_campaign_objective(campaigns_details, data[index]['campaign_id'])\n",
    "    if obj == 'CONVERSIONS' and data[index]['results']:\n",
    "        data[index]['objective'] = obj\n",
    "        bid = get_business_owner_id(campaigns_details, data[index]['campaign_id'])\n",
    "        permanent_token = fixtures.business_owner_repository.get_permanent_token(bid)\n",
    "\n",
    "        if permanent_token:\n",
    "            _ = GraphAPISdkBase(config.facebook, permanent_token)\n",
    "            adset_details = repo.get_adset_details(data[index]['adset_id'])\n",
    "            targeting_spec = adset_details.get('targeting', None)\n",
    "            optimization_goal = adset_details.get('optimization_goal', None)\n",
    "\n",
    "            ad_account_id = \"act_\" + data[index]['account_id']\n",
    "            ad_account = AdAccount(fbid=ad_account_id)\n",
    "            if targeting_spec is not None and optimization_goal is not None:\n",
    "                try:\n",
    "                    response = ad_account.get_delivery_estimate(fields=['estimate_mau'],\n",
    "                                                            params={'targeting_spec': targeting_spec,\n",
    "                                                                    'optimization_goal': optimization_goal})\n",
    "                    response = Tools.convert_to_json(response[0])\n",
    "                    data[index]['audience_size'] = response.get('estimate_mau', None)\n",
    "                except Exception as e:\n",
    "                    data[index]['audience_size'] = None\n",
    "            if not data[index].get('audience_size'):\n",
    "                data[index]['audience_size'] = None"
   ],
   "metadata": {
    "collapsed": false,
    "pycharm": {
     "name": "#%%\n"
    }
   }
  },
  {
   "cell_type": "code",
   "execution_count": 19,
   "outputs": [],
   "source": [
    "import typing\n",
    "from numpy import array\n",
    "from scipy.interpolate import interp2d\n",
    "\n",
    "def estimate_budget(objective: typing.AnyStr = None,\n",
    "                    audience_size: int = None,\n",
    "                    results: int = None,\n",
    "                    raw_data: typing.List[typing.Dict] = None) -> int:\n",
    "    x = [entry['audience_size'] for entry in raw_data if 'objective' in entry.keys() and entry['objective'] == objective and 'audience_size' in entry.keys()]\n",
    "    x = array(x, dtype=float)\n",
    "\n",
    "    y = [entry['results'] for entry in raw_data if 'objective' in entry.keys() and entry['objective'] == objective and 'audience_size' in entry.keys()]\n",
    "    y = array(y, dtype=float)\n",
    "\n",
    "    z = [entry['amount_spent'] for entry in raw_data if 'objective' in entry.keys() and entry['objective'] == objective and 'audience_size' in entry.keys()]\n",
    "    z = array(z, dtype=float)\n",
    "\n",
    "    f = interp2d(x, y, z, kind='cubic')\n",
    "    return f(audience_size, results)"
   ],
   "metadata": {
    "collapsed": false,
    "pycharm": {
     "name": "#%%\n"
    }
   }
  },
  {
   "cell_type": "code",
   "execution_count": 20,
   "outputs": [
    {
     "name": "stdout",
     "output_type": "stream",
     "text": [
      "Estimation 1: [nan]\n"
     ]
    }
   ],
   "source": [
    "print(\"Estimation 1: %s\" % estimate_budget(objective='CONVERSIONS', audience_size=10000, results=50, raw_data=data))\n",
    "# print(\"Estimation 2: %s\" % estimate_budget('PAGE_LIKES', 112411, 200))"
   ],
   "metadata": {
    "collapsed": false,
    "pycharm": {
     "name": "#%%\n"
    }
   }
  },
  {
   "cell_type": "code",
   "execution_count": null,
   "outputs": [],
   "source": [
    "objectives = []\n",
    "for entry in campaigns_details:\n",
    "    if entry['objective'] not in objectives:\n",
    "        objectives.append(entry['objective'])\n",
    "objectives"
   ],
   "metadata": {
    "collapsed": false,
    "pycharm": {
     "name": "#%%\n"
    }
   }
  },
  {
   "cell_type": "code",
   "execution_count": 14,
   "outputs": [
    {
     "ename": "NameError",
     "evalue": "name 'x' is not defined",
     "output_type": "error",
     "traceback": [
      "\u001B[0;31m---------------------------------------------------------------------------\u001B[0m",
      "\u001B[0;31mNameError\u001B[0m                                 Traceback (most recent call last)",
      "\u001B[0;32m<ipython-input-14-931e50b2e7d6>\u001B[0m in \u001B[0;36m<module>\u001B[0;34m\u001B[0m\n\u001B[0;32m----> 1\u001B[0;31m \u001B[0mx\u001B[0m\u001B[0;34m\u001B[0m\u001B[0;34m\u001B[0m\u001B[0m\n\u001B[0m\u001B[1;32m      2\u001B[0m \u001B[0;32mimport\u001B[0m \u001B[0mpandas\u001B[0m \u001B[0;32mas\u001B[0m \u001B[0mpd\u001B[0m\u001B[0;34m\u001B[0m\u001B[0;34m\u001B[0m\u001B[0m\n\u001B[1;32m      3\u001B[0m \u001B[0mdf\u001B[0m \u001B[0;34m=\u001B[0m \u001B[0mpd\u001B[0m\u001B[0;34m.\u001B[0m\u001B[0mDataFrame\u001B[0m\u001B[0;34m(\u001B[0m\u001B[0mdata\u001B[0m\u001B[0;34m=\u001B[0m\u001B[0mdata\u001B[0m\u001B[0;34m)\u001B[0m\u001B[0;34m\u001B[0m\u001B[0;34m\u001B[0m\u001B[0m\n\u001B[1;32m      4\u001B[0m \u001B[0mdf\u001B[0m\u001B[0;34m.\u001B[0m\u001B[0mto_csv\u001B[0m\u001B[0;34m(\u001B[0m\u001B[0;34m\"budget-estimation-raw-data-20200723.csv\"\u001B[0m\u001B[0;34m,\u001B[0m \u001B[0mencoding\u001B[0m\u001B[0;34m=\u001B[0m\u001B[0;34m'utf-8'\u001B[0m\u001B[0;34m)\u001B[0m\u001B[0;34m\u001B[0m\u001B[0;34m\u001B[0m\u001B[0m\n\u001B[1;32m      5\u001B[0m \u001B[0;34m\u001B[0m\u001B[0m\n",
      "\u001B[0;31mNameError\u001B[0m: name 'x' is not defined"
     ]
    }
   ],
   "source": [
    "import pandas as pd\n",
    "df = pd.DataFrame(data=data)\n",
    "df.to_csv(\"budget-estimation-raw-data-20200723.csv\", encoding='utf-8')\n"
   ],
   "metadata": {
    "collapsed": false,
    "pycharm": {
     "name": "#%%\n"
    }
   }
  },
  {
   "cell_type": "code",
   "execution_count": null,
   "outputs": [],
   "source": [
    "\n"
   ],
   "metadata": {
    "collapsed": false,
    "pycharm": {
     "name": "#%%\n"
    }
   }
  }
 ],
 "metadata": {
  "kernelspec": {
   "display_name": "Python 3",
   "language": "python",
   "name": "python3"
  },
  "language_info": {
   "codemirror_mode": {
    "name": "ipython",
    "version": 2
   },
   "file_extension": ".py",
   "mimetype": "text/x-python",
   "name": "python",
   "nbconvert_exporter": "python",
   "pygments_lexer": "ipython2",
   "version": "2.7.6"
  }
 },
 "nbformat": 4,
 "nbformat_minor": 0
}
