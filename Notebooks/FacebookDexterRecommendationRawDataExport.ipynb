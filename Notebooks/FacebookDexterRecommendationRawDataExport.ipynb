{
 "cells": [
  {
   "cell_type": "code",
   "execution_count": 1,
   "metadata": {
    "collapsed": true
   },
   "outputs": [],
   "source": [
    "import json\n",
    "from copy import deepcopy\n",
    "from datetime import datetime, timedelta\n",
    "\n",
    "import pandas as pd\n",
    "\n",
    "from Core.Dexter.Infrastructure.Domain.Breakdowns import BreakdownMetadataBase, BreakdownBase\n",
    "from Core.Dexter.Infrastructure.Domain.LevelEnums import LevelEnum\n",
    "from Core.Tools.Misc.Constants import DEFAULT_DATETIME\n",
    "from Core.Tools.Misc.ObjectManipulators import extract_class_attributes_values\n",
    "from FacebookDexter.BackgroundTasks.Startup import Startup\n",
    "from FacebookDexter.Engine.Algorithms.AlgorithmsEnum import FacebookAlgorithmsEnum\n",
    "from FacebookDexter.Engine.Algorithms.FuzzyRuleBasedSingleMetricOptimization.FacebookRuleBasedSingleMetricFuzzyfierFactory import \\\n",
    "    FacebookRuleBasedSingleMetricFuzzyfierFactory\n",
    "from FacebookDexter.Engine.Algorithms.FuzzyRuleBasedSingleMetricOptimization.Metrics.FacebookAvailableSingleMetricEnum import \\\n",
    "    FacebookAvailableSingleMetricEnum\n",
    "from FacebookDexter.Infrastructure.Domain.Breakdowns import FacebookBreakdownEnum, FacebookActionBreakdownEnum\n",
    "from FacebookDexter.Infrastructure.Domain.Metrics.FacebookMetricCalculator import FacebookMetricCalculator\n",
    "from FacebookDexter.Infrastructure.PersistanceLayer.FacebookDexterMongoRepository import FacebookDexterMongoRepository\n",
    "from FacebookDexter.Infrastructure.PersistanceLayer.RecommendationsRepository import RecommendationsRepository"
   ]
  },
  {
   "cell_type": "code",
   "execution_count": 2,
   "outputs": [],
   "source": [
    "def get_last_30days_raw_data(calculator=None, dates=None):\n",
    "    raw_values = []\n",
    "    for current_date in dates:\n",
    "        raw_value = calculator.raw_value(date_start=current_date)\n",
    "        entry = {\n",
    "            'datetime': current_date,\n",
    "            'value': raw_value\n",
    "        }\n",
    "        raw_values.append(deepcopy(entry))\n",
    "    return raw_values\n",
    "\n",
    "def get_raw_value(calculator=None, current_date=None):\n",
    "    current_date = current_date.strftime(DEFAULT_DATETIME)\n",
    "    raw_value = calculator.raw_value(date_start=current_date)\n",
    "    return raw_value\n",
    "\n",
    "def generate_last_30days(date_stop=None):\n",
    "    dates = []\n",
    "    for time_interval in range(0, 30):\n",
    "        current_date = (date_stop - timedelta(days=time_interval)).strftime(DEFAULT_DATETIME)\n",
    "        dates.append(current_date)\n",
    "    return dates\n",
    "\n",
    "def compute_trend_30days(calculator=None, date_stop=None):\n",
    "    date_start = (date_stop - timedelta(days=30)).strftime(DEFAULT_DATETIME)\n",
    "    date_stop = date_stop.strftime(DEFAULT_DATETIME)\n",
    "    trend, _ = calculator.fuzzy_trend(date_start=date_start, date_stop=date_stop)\n",
    "    return trend\n",
    "\n",
    "def compute_variance(calculator=None, time_interval=None, date_stop=None):\n",
    "    date_start = (date_stop - timedelta(days=time_interval['value'])).strftime(DEFAULT_DATETIME)\n",
    "    date_stop = date_stop.strftime(DEFAULT_DATETIME)\n",
    "    variance = calculator.variance(date_start=date_start, date_stop=date_stop)\n",
    "    return variance\n",
    "\n",
    "def compute_average(calculator=None, time_interval=None, date_stop=None):\n",
    "    date_start = (date_stop - timedelta(days=time_interval['value'])).strftime(DEFAULT_DATETIME)\n",
    "    date_stop = date_stop.strftime(DEFAULT_DATETIME)\n",
    "    average = calculator.average(date_start=date_start, date_stop=date_stop)\n",
    "    return average\n",
    "\n",
    "def compute_percentage_difference(calculator=None, time_interval=None, date_stop=None):\n",
    "    date_start = (date_stop - timedelta(days=time_interval['value'])).strftime(DEFAULT_DATETIME)\n",
    "    date_stop = date_stop.strftime(DEFAULT_DATETIME)\n",
    "    percentage_difference = calculator.percentage_difference(date_start=date_start, date_stop=date_stop)\n",
    "    return percentage_difference\n",
    "\n",
    "def prepare_single_metric_export_data(recommendation=None, calculator=None):\n",
    "\n",
    "    latest_datetime = datetime.strptime(recommendation['created_at'], '%Y-%m-%dT%H:%M:%S')\n",
    "    interval_30days = generate_last_30days(date_stop=latest_datetime)\n",
    "    last_30days_data = get_last_30days_raw_data(calculator, dates=interval_30days)\n",
    "    data = {\n",
    "        'account_id': recommendation['ad_account_id'].split(\"_\")[1],\n",
    "        'structure_name': recommendation['structure_name'],\n",
    "        'structure_id': recommendation['structure_id'],\n",
    "        'time_interval': recommendation['time_interval']['value'],\n",
    "        'recommendation': recommendation['template'],\n",
    "        '30 days time interval': [e['datetime'] for e in last_30days_data],\n",
    "        recommendation['metrics'][0]['display_name']: [e['value'] for e in last_30days_data],\n",
    "        'trend': compute_trend_30days(calculator, date_stop=latest_datetime),\n",
    "        'variance': compute_variance(calculator, recommendation['time_interval'], date_stop=latest_datetime),\n",
    "        'created_at': recommendation['created_at'],\n",
    "        'last_data_point_date': latest_datetime,\n",
    "        'raw_value_when_created': get_raw_value(calculator, latest_datetime),\n",
    "        'percentage_difference': compute_percentage_difference(calculator, time_interval=recommendation['time_interval'], date_stop=latest_datetime),\n",
    "        'mean': compute_average(calculator, time_interval=recommendation['time_interval'], date_stop=latest_datetime),\n",
    "        'confidence_level': recommendation['confidence'],\n",
    "        'status': recommendation['status']\n",
    "    }\n",
    "    return data\n",
    "\n",
    "def prepare_single_metric_csv_raw_data(recommendations=None, repository=None):\n",
    "    data = []\n",
    "    for recommendation in recommendations:\n",
    "        # get the level\n",
    "        level = LevelEnum.get_enum_by_value(recommendation['level'].lower())\n",
    "\n",
    "        # initialize the metric\n",
    "        metric = next(filter(lambda x: x.name == recommendation['metrics'][0]['name'],\n",
    "                             extract_class_attributes_values(FacebookAvailableSingleMetricEnum)), None)\n",
    "        # recreate breakdown metadata\n",
    "        breakdown_metadata = BreakdownMetadataBase(breakdown=FacebookBreakdownEnum(recommendation['breakdown']['name'].upper()),\n",
    "                                                   action_breakdown=FacebookActionBreakdownEnum(recommendation['action_breakdown']['name'].upper()))\n",
    "\n",
    "        # get the fuzzyfier factory for the current algorithm and level\n",
    "        fuzzyfier_factory = FacebookRuleBasedSingleMetricFuzzyfierFactory.get(algorithm_type=FacebookAlgorithmsEnum.DEXTER_FUZZY_INFERENCE,\n",
    "                                                                              level=level)\n",
    "\n",
    "        # create a generic calculator\n",
    "        calculator = (FacebookMetricCalculator().\n",
    "                      set_metric(metric).\n",
    "                      set_facebook_id(recommendation['structure_id']).\n",
    "                      set_level(level).\n",
    "                      set_fuzzyfier_factory(fuzzyfier_factory).\n",
    "                      set_repository(repository).\n",
    "                      set_time_interval(recommendation['time_interval']['value']).\n",
    "                      set_breakdown_metadata(breakdown_metadata).\n",
    "                      set_debug_mode(False))\n",
    "\n",
    "        # prepare the raw data for the current recommendation\n",
    "        raw_data = prepare_single_metric_export_data(recommendation, calculator)\n",
    "        data.append(deepcopy(raw_data))\n",
    "    return data"
   ],
   "metadata": {
    "collapsed": false,
    "pycharm": {
     "name": "#%%\n"
    }
   }
  },
  {
   "cell_type": "code",
   "execution_count": 3,
   "outputs": [],
   "source": [
    "# setup parameters for generating the spreadsheet\n",
    "start_date = '2020-08-14'\n",
    "end_date = datetime.now().strftime(DEFAULT_DATETIME)\n",
    "\n",
    "output_file = 'facebook-dexter-recommendations-20200817.csv'\n",
    "\n",
    "# ====== CHANGE THIS DEPENDING ON YOUR LOCAL SETUP ======\n",
    "# path to the FacebookDexter config file.\n",
    "config_file_path = '/Users/luchicla/Work/Filed/Filed.Python/FacebookDexter/BackgroundTasks/Config/Settings/app.settings.dev.json'\n",
    "\n",
    "with open(config_file_path, 'r') as config_file:\n",
    "    app_config = json.load(config_file)\n",
    "\n",
    "startup = Startup(app_config)\n",
    "\n",
    "recommendations_repository = RecommendationsRepository(config=startup.mongo_config,\n",
    "                                                       database_name=startup.mongo_config.recommendations_database_name,\n",
    "                                                       collection_name=startup.mongo_config.recommendations_collection_name)\n",
    "data_repository = FacebookDexterMongoRepository(config=startup.mongo_config,\n",
    "                                                database_name=startup.mongo_config.insights_database)"
   ],
   "metadata": {
    "collapsed": false,
    "pycharm": {
     "name": "#%%\n"
    }
   }
  },
  {
   "cell_type": "code",
   "execution_count": 4,
   "outputs": [],
   "source": [
    "# get recommendations between start_date and end_date\n",
    "recommendations = recommendations_repository.get_last_updated(key_name='created_at', key_value=start_date)\n",
    "#csv_data = prepare_single_metric_csv_raw_data(recommendations, data_repository)\n",
    "#pd.to_csv(csv_data, output_file)"
   ],
   "metadata": {
    "collapsed": false,
    "pycharm": {
     "name": "#%%\n"
    }
   }
  },
  {
   "cell_type": "code",
   "execution_count": 5,
   "outputs": [
    {
     "ename": "ValueError",
     "evalue": "'NONE' is not a valid FacebookBreakdownEnum",
     "output_type": "error",
     "traceback": [
      "\u001B[0;31m---------------------------------------------------------------------------\u001B[0m",
      "\u001B[0;31mValueError\u001B[0m                                Traceback (most recent call last)",
      "\u001B[0;31mValueError\u001B[0m: 'NONE' is not a valid FacebookBreakdownEnum",
      "\nDuring handling of the above exception, another exception occurred:\n",
      "\u001B[0;31mValueError\u001B[0m                                Traceback (most recent call last)",
      "\u001B[0;32m<ipython-input-5-cc1afae2f3d0>\u001B[0m in \u001B[0;36m<module>\u001B[0;34m\u001B[0m\n\u001B[0;32m----> 1\u001B[0;31m \u001B[0mdata\u001B[0m \u001B[0;34m=\u001B[0m \u001B[0mprepare_single_metric_csv_raw_data\u001B[0m\u001B[0;34m(\u001B[0m\u001B[0;34m[\u001B[0m\u001B[0mrecommendations\u001B[0m\u001B[0;34m[\u001B[0m\u001B[0;36m0\u001B[0m\u001B[0;34m]\u001B[0m\u001B[0;34m]\u001B[0m\u001B[0;34m)\u001B[0m\u001B[0;34m\u001B[0m\u001B[0;34m\u001B[0m\u001B[0m\n\u001B[0m",
      "\u001B[0;32m<ipython-input-2-48662ba45c5c>\u001B[0m in \u001B[0;36mprepare_single_metric_csv_raw_data\u001B[0;34m(recommendations, repository)\u001B[0m\n\u001B[1;32m     77\u001B[0m         metric = next(filter(lambda x: x.name == recommendation['metrics'][0]['name'],\n\u001B[1;32m     78\u001B[0m                              extract_class_attributes_values(FacebookAvailableSingleMetricEnum)), None)\n\u001B[0;32m---> 79\u001B[0;31m         breakdown_metadata = BreakdownMetadataBase(breakdown=FacebookBreakdownEnum(recommendation['breakdown']['name'].upper()),\n\u001B[0m\u001B[1;32m     80\u001B[0m                                                    action_breakdown=FacebookActionBreakdownEnum(recommendation['action_breakdown']['name'].upper()))\n\u001B[1;32m     81\u001B[0m         fuzzyfier_factory = FacebookRuleBasedSingleMetricFuzzyfierFactory.get(algorithm_type=FacebookAlgorithmsEnum.DEXTER_FUZZY_INFERENCE,\n",
      "\u001B[0;32m~/opt/anaconda3/lib/python3.7/enum.py\u001B[0m in \u001B[0;36m__call__\u001B[0;34m(cls, value, names, module, qualname, type, start)\u001B[0m\n\u001B[1;32m    308\u001B[0m         \"\"\"\n\u001B[1;32m    309\u001B[0m         \u001B[0;32mif\u001B[0m \u001B[0mnames\u001B[0m \u001B[0;32mis\u001B[0m \u001B[0;32mNone\u001B[0m\u001B[0;34m:\u001B[0m  \u001B[0;31m# simple value lookup\u001B[0m\u001B[0;34m\u001B[0m\u001B[0;34m\u001B[0m\u001B[0m\n\u001B[0;32m--> 310\u001B[0;31m             \u001B[0;32mreturn\u001B[0m \u001B[0mcls\u001B[0m\u001B[0;34m.\u001B[0m\u001B[0m__new__\u001B[0m\u001B[0;34m(\u001B[0m\u001B[0mcls\u001B[0m\u001B[0;34m,\u001B[0m \u001B[0mvalue\u001B[0m\u001B[0;34m)\u001B[0m\u001B[0;34m\u001B[0m\u001B[0;34m\u001B[0m\u001B[0m\n\u001B[0m\u001B[1;32m    311\u001B[0m         \u001B[0;31m# otherwise, functional API: we're creating a new Enum type\u001B[0m\u001B[0;34m\u001B[0m\u001B[0;34m\u001B[0m\u001B[0;34m\u001B[0m\u001B[0m\n\u001B[1;32m    312\u001B[0m         \u001B[0;32mreturn\u001B[0m \u001B[0mcls\u001B[0m\u001B[0;34m.\u001B[0m\u001B[0m_create_\u001B[0m\u001B[0;34m(\u001B[0m\u001B[0mvalue\u001B[0m\u001B[0;34m,\u001B[0m \u001B[0mnames\u001B[0m\u001B[0;34m,\u001B[0m \u001B[0mmodule\u001B[0m\u001B[0;34m=\u001B[0m\u001B[0mmodule\u001B[0m\u001B[0;34m,\u001B[0m \u001B[0mqualname\u001B[0m\u001B[0;34m=\u001B[0m\u001B[0mqualname\u001B[0m\u001B[0;34m,\u001B[0m \u001B[0mtype\u001B[0m\u001B[0;34m=\u001B[0m\u001B[0mtype\u001B[0m\u001B[0;34m,\u001B[0m \u001B[0mstart\u001B[0m\u001B[0;34m=\u001B[0m\u001B[0mstart\u001B[0m\u001B[0;34m)\u001B[0m\u001B[0;34m\u001B[0m\u001B[0;34m\u001B[0m\u001B[0m\n",
      "\u001B[0;32m~/opt/anaconda3/lib/python3.7/enum.py\u001B[0m in \u001B[0;36m__new__\u001B[0;34m(cls, value)\u001B[0m\n\u001B[1;32m    562\u001B[0m                         )\n\u001B[1;32m    563\u001B[0m             \u001B[0mexc\u001B[0m\u001B[0;34m.\u001B[0m\u001B[0m__context__\u001B[0m \u001B[0;34m=\u001B[0m \u001B[0mve_exc\u001B[0m\u001B[0;34m\u001B[0m\u001B[0;34m\u001B[0m\u001B[0m\n\u001B[0;32m--> 564\u001B[0;31m             \u001B[0;32mraise\u001B[0m \u001B[0mexc\u001B[0m\u001B[0;34m\u001B[0m\u001B[0;34m\u001B[0m\u001B[0m\n\u001B[0m\u001B[1;32m    565\u001B[0m \u001B[0;34m\u001B[0m\u001B[0m\n\u001B[1;32m    566\u001B[0m     \u001B[0;32mdef\u001B[0m \u001B[0m_generate_next_value_\u001B[0m\u001B[0;34m(\u001B[0m\u001B[0mname\u001B[0m\u001B[0;34m,\u001B[0m \u001B[0mstart\u001B[0m\u001B[0;34m,\u001B[0m \u001B[0mcount\u001B[0m\u001B[0;34m,\u001B[0m \u001B[0mlast_values\u001B[0m\u001B[0;34m)\u001B[0m\u001B[0;34m:\u001B[0m\u001B[0;34m\u001B[0m\u001B[0;34m\u001B[0m\u001B[0m\n",
      "\u001B[0;32m~/opt/anaconda3/lib/python3.7/enum.py\u001B[0m in \u001B[0;36m__new__\u001B[0;34m(cls, value)\u001B[0m\n\u001B[1;32m    546\u001B[0m         \u001B[0;32mtry\u001B[0m\u001B[0;34m:\u001B[0m\u001B[0;34m\u001B[0m\u001B[0;34m\u001B[0m\u001B[0m\n\u001B[1;32m    547\u001B[0m             \u001B[0mexc\u001B[0m \u001B[0;34m=\u001B[0m \u001B[0;32mNone\u001B[0m\u001B[0;34m\u001B[0m\u001B[0;34m\u001B[0m\u001B[0m\n\u001B[0;32m--> 548\u001B[0;31m             \u001B[0mresult\u001B[0m \u001B[0;34m=\u001B[0m \u001B[0mcls\u001B[0m\u001B[0;34m.\u001B[0m\u001B[0m_missing_\u001B[0m\u001B[0;34m(\u001B[0m\u001B[0mvalue\u001B[0m\u001B[0;34m)\u001B[0m\u001B[0;34m\u001B[0m\u001B[0;34m\u001B[0m\u001B[0m\n\u001B[0m\u001B[1;32m    549\u001B[0m         \u001B[0;32mexcept\u001B[0m \u001B[0mException\u001B[0m \u001B[0;32mas\u001B[0m \u001B[0me\u001B[0m\u001B[0;34m:\u001B[0m\u001B[0;34m\u001B[0m\u001B[0;34m\u001B[0m\u001B[0m\n\u001B[1;32m    550\u001B[0m             \u001B[0mexc\u001B[0m \u001B[0;34m=\u001B[0m \u001B[0me\u001B[0m\u001B[0;34m\u001B[0m\u001B[0;34m\u001B[0m\u001B[0m\n",
      "\u001B[0;32m~/opt/anaconda3/lib/python3.7/enum.py\u001B[0m in \u001B[0;36m_missing_\u001B[0;34m(cls, value)\u001B[0m\n\u001B[1;32m    575\u001B[0m     \u001B[0;34m@\u001B[0m\u001B[0mclassmethod\u001B[0m\u001B[0;34m\u001B[0m\u001B[0;34m\u001B[0m\u001B[0m\n\u001B[1;32m    576\u001B[0m     \u001B[0;32mdef\u001B[0m \u001B[0m_missing_\u001B[0m\u001B[0;34m(\u001B[0m\u001B[0mcls\u001B[0m\u001B[0;34m,\u001B[0m \u001B[0mvalue\u001B[0m\u001B[0;34m)\u001B[0m\u001B[0;34m:\u001B[0m\u001B[0;34m\u001B[0m\u001B[0;34m\u001B[0m\u001B[0m\n\u001B[0;32m--> 577\u001B[0;31m         \u001B[0;32mraise\u001B[0m \u001B[0mValueError\u001B[0m\u001B[0;34m(\u001B[0m\u001B[0;34m\"%r is not a valid %s\"\u001B[0m \u001B[0;34m%\u001B[0m \u001B[0;34m(\u001B[0m\u001B[0mvalue\u001B[0m\u001B[0;34m,\u001B[0m \u001B[0mcls\u001B[0m\u001B[0;34m.\u001B[0m\u001B[0m__name__\u001B[0m\u001B[0;34m)\u001B[0m\u001B[0;34m)\u001B[0m\u001B[0;34m\u001B[0m\u001B[0;34m\u001B[0m\u001B[0m\n\u001B[0m\u001B[1;32m    578\u001B[0m \u001B[0;34m\u001B[0m\u001B[0m\n\u001B[1;32m    579\u001B[0m     \u001B[0;32mdef\u001B[0m \u001B[0m__repr__\u001B[0m\u001B[0;34m(\u001B[0m\u001B[0mself\u001B[0m\u001B[0;34m)\u001B[0m\u001B[0;34m:\u001B[0m\u001B[0;34m\u001B[0m\u001B[0;34m\u001B[0m\u001B[0m\n",
      "\u001B[0;31mValueError\u001B[0m: 'NONE' is not a valid FacebookBreakdownEnum"
     ]
    }
   ],
   "source": [
    "data = prepare_single_metric_csv_raw_data([recommendations[0]])\n",
    "\n"
   ],
   "metadata": {
    "collapsed": false,
    "pycharm": {
     "name": "#%%\n"
    }
   }
  }
 ],
 "metadata": {
  "kernelspec": {
   "display_name": "Python 3",
   "language": "python",
   "name": "python3"
  },
  "language_info": {
   "codemirror_mode": {
    "name": "ipython",
    "version": 2
   },
   "file_extension": ".py",
   "mimetype": "text/x-python",
   "name": "python",
   "nbconvert_exporter": "python",
   "pygments_lexer": "ipython2",
   "version": "2.7.6"
  }
 },
 "nbformat": 4,
 "nbformat_minor": 0
}