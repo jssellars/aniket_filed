{
 "nbformat": 4,
 "nbformat_minor": 2,
 "metadata": {
  "language_info": {
   "name": "python",
   "codemirror_mode": {
    "name": "ipython",
    "version": 3
   },
   "version": "3.7.7-final"
  },
  "orig_nbformat": 2,
  "file_extension": ".py",
  "mimetype": "text/x-python",
  "name": "python",
  "npconvert_exporter": "python",
  "pygments_lexer": "ipython3",
  "version": 3,
  "kernelspec": {
   "name": "python37764bitdexterexperimentsconda36811b9153834c809bc202c8854b66e3",
   "display_name": "Python 3.7.7 64-bit ('dexter_experiments': conda)"
  }
 },
 "cells": [
  {
   "cell_type": "code",
   "execution_count": 319,
   "metadata": {
    "tags": []
   },
   "outputs": [
    {
     "output_type": "stream",
     "name": "stdout",
     "text": "D:\\Filed.Python\n"
    }
   ],
   "source": [
    "cd D:\\Filed.Python"
   ]
  },
  {
   "cell_type": "code",
   "execution_count": null,
   "metadata": {},
   "outputs": [],
   "source": [
    "### FOR the imports to work, change the path for config_file in FacebookDexter/BackgroundTasks/startup.py to absolute path \n",
    "# (for example: \"D:/Filed.Python/FacebookDexter/BackGroundTasks/Config/Settings/app.settings.{env}.json\"\")"
   ]
  },
  {
   "cell_type": "code",
   "execution_count": 320,
   "metadata": {},
   "outputs": [],
   "source": [
    "from FacebookDexter.Infrastructure.PersistanceLayer.DexterMongoRepository import DexterMongoRepository\n",
    "from FacebookDexter.Infrastructure.Domain.Rules.RuleEvaluatorBuilder import RuleEvaluatorBuilder\n",
    "from FacebookDexter.Infrastructure.Domain.Rules.RuleEvaluator import RuleEvaluator\n",
    "from FacebookDexter.Infrastructure.Domain.Recommendations import RecommendationBuilder\n",
    "from FacebookDexter.Infrastructure.Domain.LevelEnums import LevelEnum\n",
    "from FacebookDexter.BackgroundTasks.startup import config, fixtures\n",
    "from datetime import date, datetime, timedelta\n",
    "from FacebookDexter.Infrastructure.Domain.Breakdowns import BreakdownEnum, BreakdownMetadata, ActionBreakdownEnum\n",
    "from FacebookDexter.Infrastructure.Domain.Rules.Antecedent import Antecedent\n",
    "from FacebookDexter.Infrastructure.Domain.LogicalOperatorEnum import LogicOperatorEnum\n",
    "from FacebookDexter.Infrastructure.Domain.Metrics.Metric import Metric"
   ]
  },
  {
   "cell_type": "code",
   "execution_count": 321,
   "metadata": {
    "tags": []
   },
   "outputs": [
    {
     "output_type": "stream",
     "name": "stdout",
     "text": "2020-07-17\n"
    }
   ],
   "source": [
    "today = date.today()\n",
    "print (today)"
   ]
  },
  {
   "cell_type": "code",
   "execution_count": 322,
   "metadata": {
    "tags": []
   },
   "outputs": [],
   "source": [
    "now = date.today() - timedelta(days=1)\n",
    "three_days = timedelta(days=3)\n",
    "\n",
    "three_days_ago = now-three_days"
   ]
  },
  {
   "cell_type": "code",
   "execution_count": 323,
   "metadata": {
    "tags": []
   },
   "outputs": [
    {
     "output_type": "stream",
     "name": "stdout",
     "text": "BreakdownEnum.NONE\nBreakdownEnum.AGE\nBreakdownEnum.GENDER\nBreakdownEnum.PLACEMENT\nBreakdownEnum.DEVICE\nBreakdownEnum.PLATFORM\nBreakdownEnum.HOUR\n"
    }
   ],
   "source": [
    "for bd in BreakdownEnum:\n",
    "    print (bd)"
   ]
  },
  {
   "cell_type": "code",
   "execution_count": 324,
   "metadata": {},
   "outputs": [],
   "source": [
    "class CustomMetricCalculator:\n",
    "    def __init__(self):\n",
    "        self.mongo_repostory = DexterMongoRepository(config = config.mongo)\n",
    "\n",
    "        self.metric_to_formula_dictionary = {\n",
    "            'campaign_budget': self.get_campaign_budget,\n",
    "            'campaign_objective': self.get_campaign_objective,\n",
    "            'metric_value': self.get_metric_value,\n",
    "            'conversions_01_06': self.get_campaign_conversions_between_01_and_06_am,\n",
    "            'conversion_rate_01_06': self.get_campaign_conversion_rate,            \n",
    "            'amount_spent/budget': self.get_campaign_amount_spent_percentage_of_budget\n",
    "        }\n",
    "            \n",
    "    \n",
    "    def get_campaign_objective(self, campaign_id, date_start, date_stop):\n",
    "        details = self.mongo_repostory.get_structure_details(campaign_id, LevelEnum.CAMPAIGN)\n",
    "        return details['objective']\n",
    "\n",
    "    def get_campaign_budget(self, campaign_id, date_start, date_stop):\n",
    "        details = self.mongo_repostory.get_structure_details(campaign_id, LevelEnum.CAMPAIGN)\n",
    "        if 'daily_budget' in details:            \n",
    "            return int(details['daily_budget'])\n",
    "        elif 'lifetime_budget' in details:\n",
    "            # TODO: divide lifetime_budget by the number of days the campaign is supposed to run ??\n",
    "            return int(details['lifetime_budget'])\n",
    "        else:            \n",
    "            ad_sets = self.mongo_repostory.get_adsets_by_campaign_id(campaign_id)\n",
    "            campaign_daily_budget = 0\n",
    "            campaign_lifetime_budget = 0\n",
    "            for ad_set_id in ad_sets:\n",
    "                details = self.mongo_repostory.get_structure_details(ad_set_id, LevelEnum.ADSET)\n",
    "                if 'daily_budget' in details:                    \n",
    "                    campaign_daily_budget += int(details['daily_budget'])\n",
    "                elif 'lifetime_budget' in details:\n",
    "                    campaign_lifetime_budget += details['lifetime_budget']\n",
    "            if campaign_daily_budget > 0:\n",
    "                return campaign_daily_budget\n",
    "            elif campaign_lifetime_budget > 0:\n",
    "                # TODO: divide lifetime_budget by the number of days the campaign is supposed to run ??\n",
    "                return campaign_lifetime_budget\n",
    "            else:\n",
    "                raise ValueError('no campaign bugdet')\n",
    "\n",
    "    def get_metric_value(self, campaign_id, date_start, date_stop, metrics, breakdown_metadata= None):\n",
    "        if breakdown_metadata is None:\n",
    "            breakdown_metadata = BreakdownMetadata()\n",
    "            breakdown_metadata.breakdown = BreakdownEnum.NONE\n",
    "            breakdown_metadata.action_breakdown = ActionBreakdownEnum.NONE\n",
    "        return self.mongo_repostory.get_metrics_values(campaign_id, date_start, date_stop, metrics, LevelEnum.CAMPAIGN, breakdown_metadata)\n",
    "    \n",
    "\n",
    "    def get_campaign_metric_between_01_and_06_am(self, campaign_id, date_start, date_stop, metric):\n",
    "        breakdown_metadata = BreakdownMetadata()\n",
    "        breakdown_metadata.breakdown = BreakdownEnum.HOUR\n",
    "        breakdown_metadata.breakdown_value = ['01:00:00 - 01:59:59', '02:00:00 - 02:59:59', '03:00:00 - 03:59:59', '04:00:00 - 04:59:59', '05:00:00 - 05:59:59']\n",
    "        breakdown_metadata.action_breakdown = ActionBreakdownEnum.NONE        \n",
    "        amounts = self.get_metric_value(campaign_id, date_start, date_stop, [metric], breakdown_metadata)\n",
    "        campaign_amount = 0\n",
    "        for amount in amounts:\n",
    "            campaign_amount += amount[metric]        \n",
    "        return amounts, campaign_amount    \n",
    "    \n",
    "    def get_campaign_amount_spent_percentage_of_budget(self, campaign_id, date_start, date_stop):\n",
    "        budget = self.get_campaign_budget(campaign_id, date_start, date_stop)\n",
    "        _ , amount_spent = self.get_campaign_metric_between_01_and_06_am(campaign_id, date_start, date_stop, 'amount_spent')\n",
    "        print ('Budget: ', budget)\n",
    "        print ('Amount Spent: ' , amount_spent)\n",
    "        percentage = amount_spent / budget * 100\n",
    "        print ('Perecentage: ', percentage)\n",
    "        return percentage\n",
    "\n",
    "    def get_campaign_conversion_rate(self, campaign_id, date_start, date_stop):               \n",
    "        conversions, conversions_total = self.get_campaign_metric_between_01_and_06_am(campaign_id, date_start, date_stop, 'conversions')        \n",
    "        link_clicks, link_clicks_total = self.get_campaign_metric_between_01_and_06_am(campaign_id, date_start, date_stop, 'link_clicks')        \n",
    "        print ('Conversions: ', conversions_total)\n",
    "        print ('Link Clicks:', link_clicks_total)\n",
    "        conversion_rate = conversions_total/link_clicks_total * 100\n",
    "        print ('Conversion Rate:', conversion_rate)\n",
    "        return conversion_rate\n",
    "\n",
    "    def get_campaign_conversions_between_01_and_06_am(self, campaign_id, date_start, date_stop):\n",
    "        conversions, conversions_total = self.get_campaign_metric_between_01_and_06_am(campaign_id, date_start, date_stop, 'conversions')\n",
    "        return conversions_total\n",
    "\n",
    "\n",
    "    def get_metric_value_for_antecedent(self, antecedent: Antecedent, campaign_id, date_start, date_stop):        \n",
    "        formula = self.metric_to_formula_dictionary.get(antecedent.metric.name)\n",
    "        if formula is None:\n",
    "            raise ValueError (f'Cant calculate {antecedent.metric.name}')        \n",
    "        return formula(campaign_id, date_start, date_stop)\n",
    "\n",
    "    def get_metric_value_for_template(self, metric, campaign_id, date_start, date_stop):        \n",
    "        formula = self.metric_to_formula_dictionary.get(metric)\n",
    "        if formula is None:\n",
    "            raise ValueError (f'Cant calculate {antecedent.metric.name}')        \n",
    "        return formula(campaign_id, date_start, date_stop)\n",
    "\n",
    "calc = CustomMetricCalculator()"
   ]
  },
  {
   "cell_type": "code",
   "execution_count": 325,
   "metadata": {
    "tags": []
   },
   "outputs": [
    {
     "output_type": "execute_result",
     "data": {
      "text/plain": "([{'_id': {'campaign_id': '6161444487357',\n    'date_start': '2020-07-14',\n    'hourly_stats_aggregated_by_advertiser_time_zone': '05:00:00 - 05:59:59'},\n   'conversions': 0},\n  {'_id': {'campaign_id': '6161444487357',\n    'date_start': '2020-07-14',\n    'hourly_stats_aggregated_by_advertiser_time_zone': '04:00:00 - 04:59:59'},\n   'conversions': 0},\n  {'_id': {'campaign_id': '6161444487357',\n    'date_start': '2020-07-14',\n    'hourly_stats_aggregated_by_advertiser_time_zone': '03:00:00 - 03:59:59'},\n   'conversions': 0},\n  {'_id': {'campaign_id': '6161444487357',\n    'date_start': '2020-07-14',\n    'hourly_stats_aggregated_by_advertiser_time_zone': '02:00:00 - 02:59:59'},\n   'conversions': 0},\n  {'_id': {'campaign_id': '6161444487357',\n    'date_start': '2020-07-14',\n    'hourly_stats_aggregated_by_advertiser_time_zone': '01:00:00 - 01:59:59'},\n   'conversions': 0},\n  {'_id': {'campaign_id': '6161444487357',\n    'date_start': '2020-07-13',\n    'hourly_stats_aggregated_by_advertiser_time_zone': '05:00:00 - 05:59:59'},\n   'conversions': 0},\n  {'_id': {'campaign_id': '6161444487357',\n    'date_start': '2020-07-13',\n    'hourly_stats_aggregated_by_advertiser_time_zone': '04:00:00 - 04:59:59'},\n   'conversions': 0},\n  {'_id': {'campaign_id': '6161444487357',\n    'date_start': '2020-07-13',\n    'hourly_stats_aggregated_by_advertiser_time_zone': '03:00:00 - 03:59:59'},\n   'conversions': 0},\n  {'_id': {'campaign_id': '6161444487357',\n    'date_start': '2020-07-13',\n    'hourly_stats_aggregated_by_advertiser_time_zone': '02:00:00 - 02:59:59'},\n   'conversions': 0},\n  {'_id': {'campaign_id': '6161444487357',\n    'date_start': '2020-07-13',\n    'hourly_stats_aggregated_by_advertiser_time_zone': '01:00:00 - 01:59:59'},\n   'conversions': 0}],\n 0)"
     },
     "metadata": {},
     "execution_count": 325
    }
   ],
   "source": [
    "calc.get_campaign_metric_between_01_and_06_am('6161444487357', three_days_ago.strftime('%Y-%m-%d'), now.strftime('%Y-%m-%d'), 'conversions')"
   ]
  },
  {
   "cell_type": "code",
   "execution_count": 326,
   "metadata": {
    "tags": []
   },
   "outputs": [
    {
     "output_type": "stream",
     "name": "stdout",
     "text": "Dexter noticed that between 01-06am you spend over 5% on the budget and have no conversions. Dexter suggests you to create the following rule: pause this campaign between 01-06am\nDexter noticed that between 01-06am you spend over 7% on the budget and have a 0.4% conversion rate. Dexter suggests you to create the following rule: pause this campaign between 01-06am.\n"
    }
   ],
   "source": [
    "recommendation_template_1 = 'Dexter noticed that between 01-06am you spend over {}% on the budget and have no conversions. Dexter suggests you to create the following rule: pause this campaign between 01-06am'\n",
    "print (recommendation_template_1.format(5))\n",
    "recommendation_template_2 = 'Dexter noticed that between 01-06am you spend over {}% on the budget and have a {}% conversion rate. Dexter suggests you to create the following rule: pause this campaign between 01-06am.'\n",
    "print (recommendation_template_2.format(*[7, 0.4]))\n",
    "\n",
    "\n"
   ]
  },
  {
   "cell_type": "code",
   "execution_count": 327,
   "metadata": {},
   "outputs": [],
   "source": [
    "class BranchStrategyNode:\n",
    "        def __init__(self, false, true, rule: Antecedent, true_recommendation_template= None, true_recommendation_template_metrics= None,                                                        false_recommendation_template=None, false_recommendation_template_metrics=None):\n",
    "            self.false = false\n",
    "            self.true = true\n",
    "            self.rule = rule\n",
    "            self.true_recommendation_template = true_recommendation_template\n",
    "            self.true_recommendation_template_metrics = true_recommendation_template_metrics\n",
    "            self.false_recommendation_template = false_recommendation_template\n",
    "            self.false_recommendation_template_metrics = false_recommendation_template_metrics\n",
    "            "
   ]
  },
  {
   "cell_type": "code",
   "execution_count": 328,
   "metadata": {},
   "outputs": [],
   "source": [
    "class NodeTraverser:\n",
    "    def __init__(self, start_node: BranchStrategyNode, metric_calculator: CustomMetricCalculator, campaign_id, date_start, date_stop ):\n",
    "        self.current_node = start_node\n",
    "        self.metric_calculator = metric_calculator        \n",
    "        self.recommendation = None\n",
    "        self.campaign_id = campaign_id\n",
    "        self.date_start = date_start\n",
    "        self.date_stop = date_stop\n",
    "\n",
    "    def traverse(self):\n",
    "        while self.recommendation is None:            \n",
    "            self.move_to_next_node()\n",
    "        print (self.recommendation)\n",
    "        return\n",
    "\n",
    "    def move_to_next_node(self): \n",
    "        print ('Checking: ', self.current_node.rule.metric.name, self.current_node.rule.operator, self.current_node.rule.expected_value)           \n",
    "        if self.evaluate_rule():\n",
    "            self.move_to_true()\n",
    "        else:\n",
    "            self.move_to_false()\n",
    "\n",
    "    def move_to_false(self):\n",
    "        print ('moving to false')\n",
    "        if self.current_node.false is not None:\n",
    "            self.current_node = self.current_node.false\n",
    "        else:\n",
    "            if self.current_node.false_recommendation_template:\n",
    "               self.recommendation = self.generate_recommendation(False)\n",
    "            else:\n",
    "               self.recommendation = {} \n",
    "            \n",
    "\n",
    "    def move_to_true(self):\n",
    "        print ('moving to true')\n",
    "        if self.current_node.true is not None:\n",
    "            self.current_node = self.current_node.true\n",
    "        else:\n",
    "            if self.current_node.true_recommendation_template:\n",
    "                self.recommendation = self.generate_recommendation(True)\n",
    "            else:\n",
    "                self.recommendation = {}\n",
    "            \n",
    "\n",
    "    def evaluate_rule(self):\n",
    "        print ('evaluating rule')\n",
    "        return self.current_node.rule.evaluate(self.metric_calculator.get_metric_value_for_antecedent(self.current_node.rule,\n",
    "                                                                                                      self.campaign_id,\n",
    "                                                                                                      self.date_start,\n",
    "                                                                                                      self.date_stop))\n",
    "    def generate_recommendation(self, template: bool):\n",
    "        if template:\n",
    "            template_values = []\n",
    "            for metric in self.current_node.true_recommendation_template_metrics:\n",
    "                value = self.metric_calculator.get_metric_value_for_template(metric, self.campaign_id,\n",
    "                                                                                self.date_start,\n",
    "                                                                                self.date_stop)\n",
    "                template_values.append(value) \n",
    "            return self.current_node.true_recommendation_template.format(*template_values)    \n",
    "        else:\n",
    "            template_values = []\n",
    "            for metric in self.current_node.false_recommendation_template_metrics:\n",
    "                value = self.metric_calculator.get_metric_value_for_template(metric, self.campaign_id,\n",
    "                                                                                self.date_start,\n",
    "                                                                                self.date_stop)\n",
    "                template_values.append(value) \n",
    "            return self.current_node.false_recommendation_template.format(*template_values)    \n"
   ]
  },
  {
   "cell_type": "code",
   "execution_count": 329,
   "metadata": {
    "tags": []
   },
   "outputs": [],
   "source": [
    "result_rate_less_than_05 = Antecedent(aid=1, metric=Metric('conversion_rate_01_06'), expected_value=0.5, operator = LogicOperatorEnum.EQUAL_OR_LESS_THAN)\n",
    "\n",
    "result_rate_less_than_05_node = BranchStrategyNode(None, None, result_rate_less_than_05, recommendation_template_2, ['amount_spent/budget', 'conversion_rate_01_06'])\n",
    "\n",
    "conversion_are_0 = Antecedent(aid=1, metric=Metric('conversions_01_06'), expected_value=0, operator=LogicOperatorEnum.EQUALS)\n",
    "\n",
    "conversions_are_0_node = BranchStrategyNode(result_rate_less_than_05_node, None, conversion_are_0, recommendation_template_1, ['amount_spent/budget'])\n",
    "\n",
    "amount_spent_more_than_5_percent_of_budget = Antecedent(aid=1, metric=Metric('amount_spent/budget'), expected_value=1, operator=LogicOperatorEnum.EQUAL_OR_GREATER_THAN)\n",
    "\n",
    "amount_spent_node = BranchStrategyNode(None, conversions_are_0_node, amount_spent_more_than_5_percent_of_budget)\n",
    "\n",
    "objective_is_conversions = Antecedent(aid=1, metric=Metric('campaign_objective'), expected_value='CONVERSIONS', operator=LogicOperatorEnum.EQUALS)\n",
    "\n",
    "objective_node = BranchStrategyNode(None, amount_spent_node, objective_is_conversions)\n"
   ]
  },
  {
   "cell_type": "code",
   "execution_count": 330,
   "metadata": {
    "tags": []
   },
   "outputs": [],
   "source": [
    "campaign_01_06_traverser = NodeTraverser(objective_node, calc, '6161444487357', str(three_days_ago), str(now))"
   ]
  },
  {
   "cell_type": "code",
   "execution_count": 331,
   "metadata": {
    "tags": []
   },
   "outputs": [
    {
     "output_type": "stream",
     "name": "stdout",
     "text": "Checking:  campaign_objective LogicOperatorEnum.EQUALS CONVERSIONS\nevaluating rule\nmoving to true\nChecking:  amount_spent/budget LogicOperatorEnum.EQUAL_OR_GREATER_THAN 1\nevaluating rule\nBudget:  2500\nAmount Spent:  8.0\nPerecentage:  0.32\nmoving to false\n{}\n"
    }
   ],
   "source": [
    "campaign_01_06_traverser.traverse()"
   ]
  },
  {
   "cell_type": "code",
   "execution_count": 332,
   "metadata": {
    "tags": []
   },
   "outputs": [
    {
     "output_type": "stream",
     "name": "stdout",
     "text": "Checking:  campaign_objective LogicOperatorEnum.EQUALS CONVERSIONS\nevaluating rule\nmoving to true\nChecking:  amount_spent/budget LogicOperatorEnum.EQUAL_OR_GREATER_THAN 1\nevaluating rule\nBudget:  20000\nAmount Spent:  109.70848500000001\nPerecentage:  0.5485424250000001\nmoving to false\n{}\n"
    }
   ],
   "source": [
    "campaign_01_06_traverser = NodeTraverser(objective_node, calc, '23845045569230327', str(three_days_ago), str(now))\n",
    "campaign_01_06_traverser.traverse()"
   ]
  },
  {
   "cell_type": "code",
   "execution_count": 333,
   "metadata": {
    "tags": []
   },
   "outputs": [
    {
     "output_type": "stream",
     "name": "stdout",
     "text": "Checking:  campaign_objective LogicOperatorEnum.EQUALS CONVERSIONS\nevaluating rule\nmoving to true\nChecking:  amount_spent/budget LogicOperatorEnum.EQUAL_OR_GREATER_THAN 1\nevaluating rule\nBudget:  21000\nAmount Spent:  427.405999\nPerecentage:  2.035266661904762\nmoving to true\nChecking:  conversions_01_06 LogicOperatorEnum.EQUALS 0\nevaluating rule\nmoving to false\nChecking:  conversion_rate_01_06 LogicOperatorEnum.EQUAL_OR_LESS_THAN 0.5\nevaluating rule\nConversions:  10\nLink Clicks: 315\nConversion Rate: 3.1746031746031744\nmoving to false\n{}\n"
    }
   ],
   "source": [
    "node_traverser = NodeTraverser(objective_node, calc, '23845014680770327', str(three_days_ago), str(now))\n",
    "node_traverser.traverse()"
   ]
  },
  {
   "cell_type": "code",
   "execution_count": 334,
   "metadata": {
    "tags": []
   },
   "outputs": [
    {
     "output_type": "stream",
     "name": "stdout",
     "text": "Checking:  campaign_objective LogicOperatorEnum.EQUALS CONVERSIONS\nevaluating rule\nmoving to true\nChecking:  amount_spent/budget LogicOperatorEnum.EQUAL_OR_GREATER_THAN 1\nevaluating rule\nBudget:  45000\nAmount Spent:  531.3616650000001\nPerecentage:  1.1808037000000002\nmoving to true\nChecking:  conversions_01_06 LogicOperatorEnum.EQUALS 0\nevaluating rule\nmoving to false\nChecking:  conversion_rate_01_06 LogicOperatorEnum.EQUAL_OR_LESS_THAN 0.5\nevaluating rule\nConversions:  2\nLink Clicks: 765\nConversion Rate: 0.261437908496732\nmoving to true\nBudget:  45000\nAmount Spent:  531.3616650000001\nPerecentage:  1.1808037000000002\nConversions:  2\nLink Clicks: 765\nConversion Rate: 0.261437908496732\nDexter noticed that between 01-06am you spend over 1.1808037000000002% on the budget and have a 0.261437908496732% conversion rate. Dexter suggests you to create the following rule: pause this campaign between 01-06am.\n"
    }
   ],
   "source": [
    "node_traverser = NodeTraverser(objective_node, calc, '23845014680970327', str(three_days_ago), str(now))\n",
    "node_traverser.traverse()"
   ]
  },
  {
   "cell_type": "code",
   "execution_count": 335,
   "metadata": {
    "tags": []
   },
   "outputs": [
    {
     "output_type": "stream",
     "name": "stdout",
     "text": "Checking campaign with id:  23844799846470314\nChecking:  campaign_objective LogicOperatorEnum.EQUALS CONVERSIONS\nevaluating rule\nmoving to true\nChecking:  amount_spent/budget LogicOperatorEnum.EQUAL_OR_GREATER_THAN 1\nevaluating rule\nBudget:  2500\nAmount Spent:  4.552497\nPerecentage:  0.18209988\nmoving to false\n{}\nChecking campaign with id:  23844840722520314\nChecking:  campaign_objective LogicOperatorEnum.EQUALS CONVERSIONS\nevaluating rule\nmoving to true\nChecking:  amount_spent/budget LogicOperatorEnum.EQUAL_OR_GREATER_THAN 1\nevaluating rule\nBudget:  1500\nAmount Spent:  3.0084199999999996\nPerecentage:  0.2005613333333333\nmoving to false\n{}\nChecking campaign with id:  23844968021030314\nChecking:  campaign_objective LogicOperatorEnum.EQUALS CONVERSIONS\nevaluating rule\nmoving to false\n{}\nChecking campaign with id:  23845010064480327\nChecking:  campaign_objective LogicOperatorEnum.EQUALS CONVERSIONS\nevaluating rule\nmoving to true\nChecking:  amount_spent/budget LogicOperatorEnum.EQUAL_OR_GREATER_THAN 1\nevaluating rule\nBudget:  60000\nAmount Spent:  68.523503\nPerecentage:  0.11420583833333334\nmoving to false\n{}\nChecking campaign with id:  23845010764870327\nChecking:  campaign_objective LogicOperatorEnum.EQUALS CONVERSIONS\nevaluating rule\nmoving to true\nChecking:  amount_spent/budget LogicOperatorEnum.EQUAL_OR_GREATER_THAN 1\nevaluating rule\nBudget:  30000\nAmount Spent:  21.558339999999998\nPerecentage:  0.07186113333333333\nmoving to false\n{}\nChecking campaign with id:  23845010933070327\nChecking:  campaign_objective LogicOperatorEnum.EQUALS CONVERSIONS\nevaluating rule\nmoving to true\nChecking:  amount_spent/budget LogicOperatorEnum.EQUAL_OR_GREATER_THAN 1\nevaluating rule\nBudget:  10000\nAmount Spent:  15.507441000000002\nPerecentage:  0.15507441000000002\nmoving to false\n{}\nChecking campaign with id:  23845014680770327\nChecking:  campaign_objective LogicOperatorEnum.EQUALS CONVERSIONS\nevaluating rule\nmoving to true\nChecking:  amount_spent/budget LogicOperatorEnum.EQUAL_OR_GREATER_THAN 1\nevaluating rule\nBudget:  21000\nAmount Spent:  427.405999\nPerecentage:  2.035266661904762\nmoving to true\nChecking:  conversions_01_06 LogicOperatorEnum.EQUALS 0\nevaluating rule\nmoving to false\nChecking:  conversion_rate_01_06 LogicOperatorEnum.EQUAL_OR_LESS_THAN 0.5\nevaluating rule\nConversions:  10\nLink Clicks: 315\nConversion Rate: 3.1746031746031744\nmoving to false\n{}\nChecking campaign with id:  23845014680970327\nChecking:  campaign_objective LogicOperatorEnum.EQUALS CONVERSIONS\nevaluating rule\nmoving to true\nChecking:  amount_spent/budget LogicOperatorEnum.EQUAL_OR_GREATER_THAN 1\nevaluating rule\nBudget:  45000\nAmount Spent:  531.3616650000001\nPerecentage:  1.1808037000000002\nmoving to true\nChecking:  conversions_01_06 LogicOperatorEnum.EQUALS 0\nevaluating rule\nmoving to false\nChecking:  conversion_rate_01_06 LogicOperatorEnum.EQUAL_OR_LESS_THAN 0.5\nevaluating rule\nConversions:  2\nLink Clicks: 765\nConversion Rate: 0.261437908496732\nmoving to true\nBudget:  45000\nAmount Spent:  531.3616650000001\nPerecentage:  1.1808037000000002\nConversions:  2\nLink Clicks: 765\nConversion Rate: 0.261437908496732\nDexter noticed that between 01-06am you spend over 1.1808037000000002% on the budget and have a 0.261437908496732% conversion rate. Dexter suggests you to create the following rule: pause this campaign between 01-06am.\nChecking campaign with id:  23845014681170327\nChecking:  campaign_objective LogicOperatorEnum.EQUALS CONVERSIONS\nevaluating rule\nmoving to true\nChecking:  amount_spent/budget LogicOperatorEnum.EQUAL_OR_GREATER_THAN 1\nevaluating rule\nBudget:  7000\nAmount Spent:  74.583239\nPerecentage:  1.0654748428571428\nmoving to true\nChecking:  conversions_01_06 LogicOperatorEnum.EQUALS 0\nevaluating rule\nmoving to true\nBudget:  7000\nAmount Spent:  74.583239\nPerecentage:  1.0654748428571428\nDexter noticed that between 01-06am you spend over 1.0654748428571428% on the budget and have no conversions. Dexter suggests you to create the following rule: pause this campaign between 01-06am\nChecking campaign with id:  23845015989510327\nChecking:  campaign_objective LogicOperatorEnum.EQUALS CONVERSIONS\nevaluating rule\nmoving to true\nChecking:  amount_spent/budget LogicOperatorEnum.EQUAL_OR_GREATER_THAN 1\nevaluating rule\nBudget:  15000\nAmount Spent:  6.412597999999998\nPerecentage:  0.04275065333333332\nmoving to false\n{}\nChecking campaign with id:  23845015989680327\nChecking:  campaign_objective LogicOperatorEnum.EQUALS CONVERSIONS\nevaluating rule\nmoving to true\nChecking:  amount_spent/budget LogicOperatorEnum.EQUAL_OR_GREATER_THAN 1\nevaluating rule\nBudget:  6000\nAmount Spent:  1.9039180000000002\nPerecentage:  0.03173196666666667\nmoving to false\n{}\nChecking campaign with id:  23845015989980327\nChecking:  campaign_objective LogicOperatorEnum.EQUALS CONVERSIONS\nevaluating rule\nmoving to true\nChecking:  amount_spent/budget LogicOperatorEnum.EQUAL_OR_GREATER_THAN 1\nevaluating rule\nBudget:  3000\nAmount Spent:  2.576811\nPerecentage:  0.0858937\nmoving to false\n{}\nChecking campaign with id:  23845021870210327\nChecking:  campaign_objective LogicOperatorEnum.EQUALS CONVERSIONS\nevaluating rule\nmoving to true\nChecking:  amount_spent/budget LogicOperatorEnum.EQUAL_OR_GREATER_THAN 1\nevaluating rule\nBudget:  1500\nAmount Spent:  0.9000000000000001\nPerecentage:  0.060000000000000005\nmoving to false\n{}\nChecking campaign with id:  23845021870220327\nChecking:  campaign_objective LogicOperatorEnum.EQUALS CONVERSIONS\nevaluating rule\nmoving to true\nChecking:  amount_spent/budget LogicOperatorEnum.EQUAL_OR_GREATER_THAN 1\nevaluating rule\nBudget:  3000\nAmount Spent:  0.36\nPerecentage:  0.011999999999999999\nmoving to false\n{}\nChecking campaign with id:  23845021870580327\nChecking:  campaign_objective LogicOperatorEnum.EQUALS CONVERSIONS\nevaluating rule\nmoving to true\nChecking:  amount_spent/budget LogicOperatorEnum.EQUAL_OR_GREATER_THAN 1\nevaluating rule\nBudget:  7000\nAmount Spent:  5.054251999999999\nPerecentage:  0.07220359999999999\nmoving to false\n{}\nChecking campaign with id:  23845022312110327\nChecking:  campaign_objective LogicOperatorEnum.EQUALS CONVERSIONS\nevaluating rule\nmoving to true\nChecking:  amount_spent/budget LogicOperatorEnum.EQUAL_OR_GREATER_THAN 1\nevaluating rule\nBudget:  10000\nAmount Spent:  177.845035\nPerecentage:  1.77845035\nmoving to true\nChecking:  conversions_01_06 LogicOperatorEnum.EQUALS 0\nevaluating rule\nmoving to true\nBudget:  10000\nAmount Spent:  177.845035\nPerecentage:  1.77845035\nDexter noticed that between 01-06am you spend over 1.77845035% on the budget and have no conversions. Dexter suggests you to create the following rule: pause this campaign between 01-06am\nChecking campaign with id:  23845022312130327\nChecking:  campaign_objective LogicOperatorEnum.EQUALS CONVERSIONS\nevaluating rule\nmoving to true\nChecking:  amount_spent/budget LogicOperatorEnum.EQUAL_OR_GREATER_THAN 1\nevaluating rule\nBudget:  10000\nAmount Spent:  241.943837\nPerecentage:  2.41943837\nmoving to true\nChecking:  conversions_01_06 LogicOperatorEnum.EQUALS 0\nevaluating rule\nmoving to true\nBudget:  10000\nAmount Spent:  241.943837\nPerecentage:  2.41943837\nDexter noticed that between 01-06am you spend over 2.41943837% on the budget and have no conversions. Dexter suggests you to create the following rule: pause this campaign between 01-06am\nChecking campaign with id:  23845022312690327\nChecking:  campaign_objective LogicOperatorEnum.EQUALS CONVERSIONS\nevaluating rule\nmoving to true\nChecking:  amount_spent/budget LogicOperatorEnum.EQUAL_OR_GREATER_THAN 1\nevaluating rule\nBudget:  2000\nAmount Spent:  13.619475999999999\nPerecentage:  0.6809738\nmoving to false\n{}\nChecking campaign with id:  23845022727750327\nChecking:  campaign_objective LogicOperatorEnum.EQUALS CONVERSIONS\nevaluating rule\nmoving to true\nChecking:  amount_spent/budget LogicOperatorEnum.EQUAL_OR_GREATER_THAN 1\nevaluating rule\nBudget:  1500\nAmount Spent:  0\nPerecentage:  0.0\nmoving to false\n{}\nChecking campaign with id:  23845022727860327\nChecking:  campaign_objective LogicOperatorEnum.EQUALS CONVERSIONS\nevaluating rule\nmoving to true\nChecking:  amount_spent/budget LogicOperatorEnum.EQUAL_OR_GREATER_THAN 1\nevaluating rule\nBudget:  6000\nAmount Spent:  97.44964599999999\nPerecentage:  1.6241607666666664\nmoving to true\nChecking:  conversions_01_06 LogicOperatorEnum.EQUALS 0\nevaluating rule\nmoving to true\nBudget:  6000\nAmount Spent:  97.44964599999999\nPerecentage:  1.6241607666666664\nDexter noticed that between 01-06am you spend over 1.6241607666666664% on the budget and have no conversions. Dexter suggests you to create the following rule: pause this campaign between 01-06am\nChecking campaign with id:  23845022728150327\nChecking:  campaign_objective LogicOperatorEnum.EQUALS CONVERSIONS\nevaluating rule\nmoving to true\nChecking:  amount_spent/budget LogicOperatorEnum.EQUAL_OR_GREATER_THAN 1\nevaluating rule\nBudget:  15000\nAmount Spent:  199.14\nPerecentage:  1.3276\nmoving to true\nChecking:  conversions_01_06 LogicOperatorEnum.EQUALS 0\nevaluating rule\nmoving to true\nBudget:  15000\nAmount Spent:  199.14\nPerecentage:  1.3276\nDexter noticed that between 01-06am you spend over 1.3276% on the budget and have no conversions. Dexter suggests you to create the following rule: pause this campaign between 01-06am\nChecking campaign with id:  23845035665000327\nChecking:  campaign_objective LogicOperatorEnum.EQUALS CONVERSIONS\nevaluating rule\nmoving to true\nChecking:  amount_spent/budget LogicOperatorEnum.EQUAL_OR_GREATER_THAN 1\nevaluating rule\nBudget:  1500\nAmount Spent:  0\nPerecentage:  0.0\nmoving to false\n{}\nChecking campaign with id:  23845035665100327\nChecking:  campaign_objective LogicOperatorEnum.EQUALS CONVERSIONS\nevaluating rule\nmoving to true\nChecking:  amount_spent/budget LogicOperatorEnum.EQUAL_OR_GREATER_THAN 1\nevaluating rule\nBudget:  3000\nAmount Spent:  3.974015000000001\nPerecentage:  0.1324671666666667\nmoving to false\n{}\nChecking campaign with id:  23845035665140327\nChecking:  campaign_objective LogicOperatorEnum.EQUALS CONVERSIONS\nevaluating rule\nmoving to true\nChecking:  amount_spent/budget LogicOperatorEnum.EQUAL_OR_GREATER_THAN 1\nevaluating rule\nBudget:  10000\nAmount Spent:  4.448158999999999\nPerecentage:  0.04448158999999999\nmoving to false\n{}\nChecking campaign with id:  23845035871170327\nChecking:  campaign_objective LogicOperatorEnum.EQUALS CONVERSIONS\nevaluating rule\nmoving to true\nChecking:  amount_spent/budget LogicOperatorEnum.EQUAL_OR_GREATER_THAN 1\nevaluating rule\nBudget:  1500\nAmount Spent:  0\nPerecentage:  0.0\nmoving to false\n{}\nChecking campaign with id:  23845035871190327\nChecking:  campaign_objective LogicOperatorEnum.EQUALS CONVERSIONS\nevaluating rule\nmoving to true\nChecking:  amount_spent/budget LogicOperatorEnum.EQUAL_OR_GREATER_THAN 1\nevaluating rule\nBudget:  15000\nAmount Spent:  59.657639999999994\nPerecentage:  0.3977176\nmoving to false\n{}\nChecking campaign with id:  23845035871650327\nChecking:  campaign_objective LogicOperatorEnum.EQUALS CONVERSIONS\nevaluating rule\nmoving to true\nChecking:  amount_spent/budget LogicOperatorEnum.EQUAL_OR_GREATER_THAN 1\nevaluating rule\nBudget:  6000\nAmount Spent:  5.189775000000001\nPerecentage:  0.08649625000000001\nmoving to false\n{}\nChecking campaign with id:  23845045569230327\nChecking:  campaign_objective LogicOperatorEnum.EQUALS CONVERSIONS\nevaluating rule\nmoving to true\nChecking:  amount_spent/budget LogicOperatorEnum.EQUAL_OR_GREATER_THAN 1\nevaluating rule\nBudget:  20000\nAmount Spent:  109.70848500000001\nPerecentage:  0.5485424250000001\nmoving to false\n{}\nChecking campaign with id:  23845139862580314\nChecking:  campaign_objective LogicOperatorEnum.EQUALS CONVERSIONS\nevaluating rule\nmoving to false\n{}\nChecking campaign with id:  23845140264160314\nChecking:  campaign_objective LogicOperatorEnum.EQUALS CONVERSIONS\nevaluating rule\nmoving to false\n{}\nChecking campaign with id:  23845140280760314\nChecking:  campaign_objective LogicOperatorEnum.EQUALS CONVERSIONS\nevaluating rule\nmoving to false\n{}\nChecking campaign with id:  23845143657030327\nChecking:  campaign_objective LogicOperatorEnum.EQUALS CONVERSIONS\nevaluating rule\nmoving to false\n{}\nChecking campaign with id:  23845162566680314\nChecking:  campaign_objective LogicOperatorEnum.EQUALS CONVERSIONS\nevaluating rule\nmoving to true\nChecking:  amount_spent/budget LogicOperatorEnum.EQUAL_OR_GREATER_THAN 1\nevaluating rule\nBudget:  4000\nAmount Spent:  10.409261999999998\nPerecentage:  0.26023155\nmoving to false\n{}\nChecking campaign with id:  23845210185190314\nChecking:  campaign_objective LogicOperatorEnum.EQUALS CONVERSIONS\nevaluating rule\nmoving to false\n{}\nChecking campaign with id:  23845237152400314\nChecking:  campaign_objective LogicOperatorEnum.EQUALS CONVERSIONS\nevaluating rule\nmoving to false\n{}\nChecking campaign with id:  6161444487357\nChecking:  campaign_objective LogicOperatorEnum.EQUALS CONVERSIONS\nevaluating rule\nmoving to true\nChecking:  amount_spent/budget LogicOperatorEnum.EQUAL_OR_GREATER_THAN 1\nevaluating rule\nBudget:  2500\nAmount Spent:  8.0\nPerecentage:  0.32\nmoving to false\n{}\nChecking campaign with id:  6163819700557\nChecking:  campaign_objective LogicOperatorEnum.EQUALS CONVERSIONS\nevaluating rule\nmoving to true\nChecking:  amount_spent/budget LogicOperatorEnum.EQUAL_OR_GREATER_THAN 1\nevaluating rule\nBudget:  2500\nAmount Spent:  3.4703160000000004\nPerecentage:  0.13881264000000001\nmoving to false\n{}\nChecking campaign with id:  6195099940757\nChecking:  campaign_objective LogicOperatorEnum.EQUALS CONVERSIONS\nevaluating rule\nmoving to true\nChecking:  amount_spent/budget LogicOperatorEnum.EQUAL_OR_GREATER_THAN 1\nevaluating rule\nBudget:  5000\nAmount Spent:  0.6599999999999999\nPerecentage:  0.013199999999999998\nmoving to false\n{}\nChecking campaign with id:  6195213681557\nChecking:  campaign_objective LogicOperatorEnum.EQUALS CONVERSIONS\nevaluating rule\nmoving to true\nChecking:  amount_spent/budget LogicOperatorEnum.EQUAL_OR_GREATER_THAN 1\nevaluating rule\nBudget:  6000\nAmount Spent:  9.365452\nPerecentage:  0.15609086666666666\nmoving to false\n{}\n"
    }
   ],
   "source": [
    "campaign_ids = ['23844799846470314',\n",
    "'23844840722520314',\n",
    "'23844968021030314',\n",
    "'23845010064480327',\n",
    "'23845010764870327',\n",
    "'23845010933070327',\n",
    "'23845014680770327',\n",
    "'23845014680970327',\n",
    "'23845014681170327',\n",
    "'23845015989510327',\n",
    "'23845015989680327',\n",
    "'23845015989980327',\n",
    "'23845021870210327',\n",
    "'23845021870220327',\n",
    "'23845021870580327',\n",
    "'23845022312110327',\n",
    "'23845022312130327',\n",
    "'23845022312690327',\n",
    "'23845022727750327',\n",
    "'23845022727860327',\n",
    "'23845022728150327',\n",
    "'23845035665000327',\n",
    "'23845035665100327',\n",
    "'23845035665140327',\n",
    "'23845035871170327',\n",
    "'23845035871190327',\n",
    "'23845035871650327',\n",
    "'23845045569230327',\n",
    "'23845139862580314',\n",
    "'23845140264160314',\n",
    "'23845140280760314',\n",
    "'23845143657030327',\n",
    "'23845162566680314',\n",
    "'23845210185190314',\n",
    "'23845237152400314',\n",
    "'6161444487357',\n",
    "'6163819700557',\n",
    "'6195099940757',\n",
    "'6195213681557']\n",
    "\n",
    "\n",
    "for campaign_id in campaign_ids:\n",
    "    print ('Checking campaign with id: ', campaign_id)\n",
    "    node_traverser = NodeTraverser(objective_node, calc, campaign_id, str(three_days_ago), str(now))\n",
    "    node_traverser.traverse()"
   ]
  }
 ]
}
