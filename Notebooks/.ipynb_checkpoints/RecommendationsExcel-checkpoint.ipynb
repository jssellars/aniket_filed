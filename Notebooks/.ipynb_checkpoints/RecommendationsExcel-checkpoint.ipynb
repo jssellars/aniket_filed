{
 "cells": [
  {
   "cell_type": "code",
   "execution_count": 12,
   "metadata": {},
   "outputs": [
    {
     "name": "stderr",
     "output_type": "stream",
     "text": [
      "2020-05-21 14:57:04,810| ERROR   | Could not establish connection from ('127.0.0.1', 63062) to remote side of the tunnel\n"
     ]
    },
    {
     "data": {
      "text/plain": [
       "[{'_id': ObjectId('5ebf4cd54cb1a3a97de29ccd'),\n",
       "  'action_breakdown': {'name': 'none', 'display_name': ''},\n",
       "  'ad_account_id': 'act_2242745292656390',\n",
       "  'application_details': None,\n",
       "  'breakdown': {'name': 'none', 'display_name': ''},\n",
       "  'campaign_id': '23844372658000216',\n",
       "  'campaign_name': 'BID CAP 2020 BROAD US',\n",
       "  'category': 'cpr',\n",
       "  'channel': 'facebook',\n",
       "  'confidence': 1.0,\n",
       "  'created_at': '2020-05-16T05:14:56',\n",
       "  'importance': 3,\n",
       "  'last_updated_at': datetime.datetime(2020, 5, 19, 18, 40, 8, 20000),\n",
       "  'level': 'campaign',\n",
       "  'metrics': [{'display_name': 'Results', 'name': 'results'}],\n",
       "  'optimization_type': {'name': 'RULE_BASED', 'value': 'Rule Based'},\n",
       "  'parent_id': '23844372658000216',\n",
       "  'parent_name': 'BID CAP 2020 BROAD US',\n",
       "  'recommendation_id': 'f46381dbced0437722265b9514414a27f4c115e1',\n",
       "  'recommendation_type': 'Creative',\n",
       "  'redirect_for_edit': 3,\n",
       "  'source': 'Dexter',\n",
       "  'status': 0,\n",
       "  'structure_id': '23844372658000216',\n",
       "  'structure_name': 'BID CAP 2020 BROAD US',\n",
       "  'template': 'Your app install resultsare decreasing in the last 7. Dexter recommends AB testing new ad copy or new creatives to drive a better results with your app installs.'}]"
      ]
     },
     "execution_count": 12,
     "metadata": {},
     "output_type": "execute_result"
    }
   ],
   "source": [
    "from pymongo import MongoClient\n",
    "from sshtunnel import SSHTunnelForwarder\n",
    "\n",
    "class MongoConnectionHandlerException(Exception):\n",
    "    pass\n",
    "\n",
    "class MongoConnectionHandler:\n",
    "\n",
    "    __localhost = '127.0.0.1'\n",
    "\n",
    "    def __init__(self):\n",
    "\n",
    "        server = SSHTunnelForwarder(\n",
    "            ('18.130.129.216', 22),\n",
    "            ssh_username='mongo',\n",
    "            ssh_password='7YPbhiYTEtM=',\n",
    "            remote_bind_address=('192.168.2.91', 27017)\n",
    "        )\n",
    "        server.start()\n",
    "\n",
    "        self.__client = MongoClient(host=self.__localhost, \n",
    "                                    port=server.local_bind_port, \n",
    "                                    username='mongo-admin', \n",
    "                                    password='7YPbhiYTEtM=', \n",
    "                                    retryWrites=False)\n",
    "\n",
    "    @property\n",
    "    def client(self):\n",
    "        if self.__client is None:\n",
    "            raise MongoConnectionHandlerException('Invalid database connection.')\n",
    "\n",
    "        return self.__client\n",
    "\n",
    "    def close(self):\n",
    "        self.__client.close()\n",
    "\n",
    "class MongoRepository:\n",
    "    \n",
    "    def __init__(self, client):\n",
    "        \n",
    "        self.__client = client\n",
    "        \n",
    "    def find_one(self):\n",
    "        try:\n",
    "            res = self.__client['dev_dexter_fuzzy_inference_recommendations']['recommendations'].find().limit(1)\n",
    "            res = list(res)\n",
    "            return res\n",
    "        except Exception as e:\n",
    "            raise e\n",
    "            \n",
    "        \n",
    "mongo_client = MongoConnectionHandler()\n",
    "mongo_repo = MongoRepository(mongo_client.client)\n",
    "mongo_repo.find_one()"
   ]
  },
  {
   "cell_type": "code",
   "execution_count": 13,
   "metadata": {},
   "outputs": [],
   "source": [
    "from dataclasses import dataclass\n",
    "\n",
    "@dataclass\n",
    "class Recommendation:\n",
    "    action_breakdown = None\n",
    "    ad_account_id = None\n",
    "    breakdown = None\n",
    "    campaign_id = None\n",
    "    campaign_name = None\n",
    "    category = None\n",
    "    channel = None\n",
    "    confidence = None\n",
    "    created_at = None\n",
    "    importance = None\n",
    "    last_updated_at = None\n",
    "    level = None\n",
    "    metrics = None\n",
    "    optimization_type = None\n",
    "    parent_id = None\n",
    "    parent_name = None\n",
    "    recommendation_id = None\n",
    "    redirect_for_edit = None\n",
    "    source = None\n",
    "    status = None\n",
    "    structure_id = None\n",
    "    structure_name = None\n",
    "    template = None"
   ]
  },
  {
   "cell_type": "code",
   "execution_count": 14,
   "metadata": {},
   "outputs": [
    {
     "name": "stderr",
     "output_type": "stream",
     "text": [
      "2020-05-21 14:57:07,400| ERROR   | Could not establish connection from ('127.0.0.1', 63074) to remote side of the tunnel\n",
      "2020-05-21 14:57:08,997| ERROR   | Could not establish connection from ('127.0.0.1', 63074) to remote side of the tunnel\n"
     ]
    },
    {
     "name": "stdout",
     "output_type": "stream",
     "text": [
      "['Results']\n"
     ]
    }
   ],
   "source": [
    "\n",
    "mongo_client = MongoConnectionHandler()\n",
    "mongo_repo = MongoRepository(mongo_client.client)\n",
    "recommendation_raw = mongo_repo.find_one()[0]\n",
    "\n",
    "rec = Recommendation()\n",
    "rec.action_breakdown = recommendation_raw['action_breakdown']['display_name']\n",
    "rec.ad_account_id = recommendation_raw['ad_account_id']\n",
    "rec.breakdown = recommendation_raw['breakdown']['display_name']\n",
    "rec.campaign_id = recommendation_raw['campaign_id']\n",
    "rec.campaign_name = recommendation_raw['campaign_name']\n",
    "rec.category = recommendation_raw['category']\n",
    "rec.channel = recommendation_raw['channel']\n",
    "rec.confidence = recommendation_raw['confidence']\n",
    "rec.created_at = recommendation_raw['created_at']\n",
    "rec.importance = recommendation_raw['importance']\n",
    "rec.last_updated_at = recommendation_raw['last_updated_at']\n",
    "rec.level = recommendation_raw['level']\n",
    "rec.metrics = [recommendation['display_name'] for recommendation in recommendation_raw['metrics']]\n",
    "rec.parent_name = recommendation_raw['recommendation_id']\n",
    "rec.recommendation_id = recommendation_raw['parent_id']\n",
    "rec.redirect_for_edit = recommendation_raw['redirect_for_edit']\n",
    "rec.source = recommendation_raw['source']\n",
    "rec.status = recommendation_raw['status']\n",
    "rec.structure_id = recommendation_raw['structure_id']\n",
    "rec.structure_name = recommendation_raw['structure_name']\n",
    "rec.template = recommendation_raw['template']\n",
    "\n",
    "print(rec.metrics)\n",
    "\n",
    "\n",
    "\n"
   ]
  },
  {
   "cell_type": "code",
   "execution_count": null,
   "metadata": {},
   "outputs": [],
   "source": []
  },
  {
   "cell_type": "code",
   "execution_count": null,
   "metadata": {},
   "outputs": [],
   "source": []
  }
 ],
 "metadata": {
  "kernelspec": {
   "display_name": "Python 3",
   "language": "python",
   "name": "python3"
  },
  "language_info": {
   "codemirror_mode": {
    "name": "ipython",
    "version": 3
   },
   "file_extension": ".py",
   "mimetype": "text/x-python",
   "name": "python",
   "nbconvert_exporter": "python",
   "pygments_lexer": "ipython3",
   "version": "3.7.4"
  }
 },
 "nbformat": 4,
 "nbformat_minor": 2
}
